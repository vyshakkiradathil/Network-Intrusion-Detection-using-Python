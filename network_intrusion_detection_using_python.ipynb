{
  "nbformat": 4,
  "nbformat_minor": 0,
  "metadata": {
    "kernelspec": {
      "display_name": "Python 3",
      "language": "python",
      "name": "python3"
    },
    "language_info": {
      "name": "python",
      "version": "3.6.6",
      "mimetype": "text/x-python",
      "codemirror_mode": {
        "name": "ipython",
        "version": 3
      },
      "pygments_lexer": "ipython3",
      "nbconvert_exporter": "python",
      "file_extension": ".py"
    },
    "colab": {
      "name": "network-intrusion-detection-using-python.ipynb",
      "provenance": [],
      "toc_visible": true,
      "include_colab_link": true
    }
  },
  "cells": [
    {
      "cell_type": "markdown",
      "metadata": {
        "id": "view-in-github",
        "colab_type": "text"
      },
      "source": [
        "<a href=\"https://colab.research.google.com/github/vyshakkiradathil/Network-Intrusion-Detection-using-Python/blob/master/network_intrusion_detection_using_python.ipynb\" target=\"_parent\"><img src=\"https://colab.research.google.com/assets/colab-badge.svg\" alt=\"Open In Colab\"/></a>"
      ]
    },
    {
      "cell_type": "code",
      "metadata": {
        "trusted": true,
        "_uuid": "5059b293b34a18afd43e6185dfcba4521bd87878",
        "id": "iMy1t1nCycB-",
        "colab_type": "code",
        "colab": {}
      },
      "source": [
        "# import relevant modules\n",
        "%matplotlib inline\n",
        "import sys\n",
        "import matplotlib\n",
        "import matplotlib.pyplot as plt\n",
        "import pandas as pd\n",
        "import numpy as np\n",
        "import seaborn as sns\n",
        "import sklearn\n",
        "import imblearn\n",
        "\n",
        "# Ignore warnings\n",
        "import warnings\n",
        "warnings.filterwarnings('ignore')\n",
        "\n",
        "# Settings\n",
        "pd.set_option('display.max_columns', None)\n",
        "np.set_printoptions(threshold=sys.maxsize)\n",
        "np.set_printoptions(precision=3)\n",
        "sns.set(style=\"darkgrid\")\n",
        "plt.rcParams['axes.labelsize'] = 14\n",
        "plt.rcParams['xtick.labelsize'] = 12\n",
        "plt.rcParams['ytick.labelsize'] = 12"
      ],
      "execution_count": 0,
      "outputs": []
    },
    {
      "cell_type": "markdown",
      "metadata": {
        "_uuid": "2d5309ee0cd9b2f807af7a3ad8a783f066a99d0d",
        "id": "hF_zwxj2ycCL",
        "colab_type": "text"
      },
      "source": [
        "# LOAD DATA"
      ]
    },
    {
      "cell_type": "code",
      "metadata": {
        "trusted": true,
        "_uuid": "14c15b2699fed6d95c4e3e4de5e4595b4e650920",
        "id": "UT46IzfxycCM",
        "colab_type": "code",
        "colab": {}
      },
      "source": [
        "train = pd.read_csv(\"../Train_data.csv\")\n",
        "test = pd.read_csv(\"../Test_data.csv\")"
      ],
      "execution_count": 0,
      "outputs": []
    },
    {
      "cell_type": "code",
      "metadata": {
        "trusted": true,
        "_uuid": "f3ca7cc2b990447e1a401f5b91ba8df21e33c845",
        "id": "fI_ODR_zycCS",
        "colab_type": "code",
        "outputId": "f0be1533-bc7c-476b-cd76-7432f98aacaa",
        "colab": {
          "base_uri": "https://localhost:8080/",
          "height": 1000
        }
      },
      "source": [
        "print(train.head(4))\n",
        "\n",
        "print(\"Training data has {} rows & {} columns\".format(train.shape[0],train.shape[1]))"
      ],
      "execution_count": 30,
      "outputs": [
        {
          "output_type": "stream",
          "text": [
            "   duration protocol_type   service flag  src_bytes  dst_bytes  land  \\\n",
            "0         0           tcp  ftp_data   SF        491          0     0   \n",
            "1         0           udp     other   SF        146          0     0   \n",
            "2         0           tcp   private   S0          0          0     0   \n",
            "3         0           tcp      http   SF        232       8153     0   \n",
            "\n",
            "   wrong_fragment  urgent  hot  num_failed_logins  logged_in  num_compromised  \\\n",
            "0               0       0    0                  0          0                0   \n",
            "1               0       0    0                  0          0                0   \n",
            "2               0       0    0                  0          0                0   \n",
            "3               0       0    0                  0          1                0   \n",
            "\n",
            "   root_shell  su_attempted  num_root  num_file_creations  num_shells  \\\n",
            "0           0             0         0                   0           0   \n",
            "1           0             0         0                   0           0   \n",
            "2           0             0         0                   0           0   \n",
            "3           0             0         0                   0           0   \n",
            "\n",
            "   num_access_files  num_outbound_cmds  is_host_login  is_guest_login  count  \\\n",
            "0                 0                  0              0               0      2   \n",
            "1                 0                  0              0               0     13   \n",
            "2                 0                  0              0               0    123   \n",
            "3                 0                  0              0               0      5   \n",
            "\n",
            "   srv_count  serror_rate  srv_serror_rate  rerror_rate  srv_rerror_rate  \\\n",
            "0          2          0.0              0.0          0.0              0.0   \n",
            "1          1          0.0              0.0          0.0              0.0   \n",
            "2          6          1.0              1.0          0.0              0.0   \n",
            "3          5          0.2              0.2          0.0              0.0   \n",
            "\n",
            "   same_srv_rate  diff_srv_rate  srv_diff_host_rate  dst_host_count  \\\n",
            "0           1.00           0.00                 0.0             150   \n",
            "1           0.08           0.15                 0.0             255   \n",
            "2           0.05           0.07                 0.0             255   \n",
            "3           1.00           0.00                 0.0              30   \n",
            "\n",
            "   dst_host_srv_count  dst_host_same_srv_rate  dst_host_diff_srv_rate  \\\n",
            "0                  25                    0.17                    0.03   \n",
            "1                   1                    0.00                    0.60   \n",
            "2                  26                    0.10                    0.05   \n",
            "3                 255                    1.00                    0.00   \n",
            "\n",
            "   dst_host_same_src_port_rate  dst_host_srv_diff_host_rate  \\\n",
            "0                         0.17                         0.00   \n",
            "1                         0.88                         0.00   \n",
            "2                         0.00                         0.00   \n",
            "3                         0.03                         0.04   \n",
            "\n",
            "   dst_host_serror_rate  dst_host_srv_serror_rate  dst_host_rerror_rate  \\\n",
            "0                  0.00                      0.00                  0.05   \n",
            "1                  0.00                      0.00                  0.00   \n",
            "2                  1.00                      1.00                  0.00   \n",
            "3                  0.03                      0.01                  0.00   \n",
            "\n",
            "   dst_host_srv_rerror_rate    class  \n",
            "0                      0.00   normal  \n",
            "1                      0.00   normal  \n",
            "2                      0.00  anomaly  \n",
            "3                      0.01   normal  \n",
            "Training data has 25192 rows & 42 columns\n"
          ],
          "name": "stdout"
        }
      ]
    },
    {
      "cell_type": "code",
      "metadata": {
        "trusted": true,
        "_uuid": "5ed1bc1c00f047f5fed78fb18100b3be7c3b7852",
        "id": "P79dR4J6ycCX",
        "colab_type": "code",
        "outputId": "ec042be9-942b-4c8f-cfc8-101713335bd1",
        "colab": {
          "base_uri": "https://localhost:8080/",
          "height": 1000
        }
      },
      "source": [
        "print(test.head(4))\n",
        "\n",
        "print(\"Testing data has {} rows & {} columns\".format(test.shape[0],test.shape[1]))"
      ],
      "execution_count": 31,
      "outputs": [
        {
          "output_type": "stream",
          "text": [
            "   duration protocol_type   service flag  src_bytes  dst_bytes  land  \\\n",
            "0         0           tcp   private  REJ          0          0     0   \n",
            "1         0           tcp   private  REJ          0          0     0   \n",
            "2         2           tcp  ftp_data   SF      12983          0     0   \n",
            "3         0          icmp     eco_i   SF         20          0     0   \n",
            "\n",
            "   wrong_fragment  urgent  hot  num_failed_logins  logged_in  num_compromised  \\\n",
            "0               0       0    0                  0          0                0   \n",
            "1               0       0    0                  0          0                0   \n",
            "2               0       0    0                  0          0                0   \n",
            "3               0       0    0                  0          0                0   \n",
            "\n",
            "   root_shell  su_attempted  num_root  num_file_creations  num_shells  \\\n",
            "0           0             0         0                   0           0   \n",
            "1           0             0         0                   0           0   \n",
            "2           0             0         0                   0           0   \n",
            "3           0             0         0                   0           0   \n",
            "\n",
            "   num_access_files  num_outbound_cmds  is_host_login  is_guest_login  count  \\\n",
            "0                 0                  0              0               0    229   \n",
            "1                 0                  0              0               0    136   \n",
            "2                 0                  0              0               0      1   \n",
            "3                 0                  0              0               0      1   \n",
            "\n",
            "   srv_count  serror_rate  srv_serror_rate  rerror_rate  srv_rerror_rate  \\\n",
            "0         10          0.0              0.0          1.0              1.0   \n",
            "1          1          0.0              0.0          1.0              1.0   \n",
            "2          1          0.0              0.0          0.0              0.0   \n",
            "3         65          0.0              0.0          0.0              0.0   \n",
            "\n",
            "   same_srv_rate  diff_srv_rate  srv_diff_host_rate  dst_host_count  \\\n",
            "0           0.04           0.06                 0.0             255   \n",
            "1           0.01           0.06                 0.0             255   \n",
            "2           1.00           0.00                 0.0             134   \n",
            "3           1.00           0.00                 1.0               3   \n",
            "\n",
            "   dst_host_srv_count  dst_host_same_srv_rate  dst_host_diff_srv_rate  \\\n",
            "0                  10                    0.04                    0.06   \n",
            "1                   1                    0.00                    0.06   \n",
            "2                  86                    0.61                    0.04   \n",
            "3                  57                    1.00                    0.00   \n",
            "\n",
            "   dst_host_same_src_port_rate  dst_host_srv_diff_host_rate  \\\n",
            "0                         0.00                         0.00   \n",
            "1                         0.00                         0.00   \n",
            "2                         0.61                         0.02   \n",
            "3                         1.00                         0.28   \n",
            "\n",
            "   dst_host_serror_rate  dst_host_srv_serror_rate  dst_host_rerror_rate  \\\n",
            "0                   0.0                       0.0                   1.0   \n",
            "1                   0.0                       0.0                   1.0   \n",
            "2                   0.0                       0.0                   0.0   \n",
            "3                   0.0                       0.0                   0.0   \n",
            "\n",
            "   dst_host_srv_rerror_rate  \n",
            "0                       1.0  \n",
            "1                       1.0  \n",
            "2                       0.0  \n",
            "3                       0.0  \n",
            "Testing data has 22544 rows & 41 columns\n"
          ],
          "name": "stdout"
        }
      ]
    },
    {
      "cell_type": "markdown",
      "metadata": {
        "_uuid": "bde409f4fe8da1fcb52751bf8c397ac346a2409f",
        "id": "I2pA4KyrycCd",
        "colab_type": "text"
      },
      "source": [
        "# EXPLORATORY ANALYSIS"
      ]
    },
    {
      "cell_type": "code",
      "metadata": {
        "trusted": true,
        "_uuid": "f231cec911b59adb7de03dd877fb38fbc270e09a",
        "id": "8NHNHmtuycCe",
        "colab_type": "code",
        "outputId": "855aae1a-6bc5-49ab-9ab4-dc2f2c61153f",
        "colab": {
          "base_uri": "https://localhost:8080/",
          "height": 317
        }
      },
      "source": [
        "# Descriptive statistics\n",
        "train.describe()"
      ],
      "execution_count": 32,
      "outputs": [
        {
          "output_type": "execute_result",
          "data": {
            "text/html": [
              "<div>\n",
              "<style scoped>\n",
              "    .dataframe tbody tr th:only-of-type {\n",
              "        vertical-align: middle;\n",
              "    }\n",
              "\n",
              "    .dataframe tbody tr th {\n",
              "        vertical-align: top;\n",
              "    }\n",
              "\n",
              "    .dataframe thead th {\n",
              "        text-align: right;\n",
              "    }\n",
              "</style>\n",
              "<table border=\"1\" class=\"dataframe\">\n",
              "  <thead>\n",
              "    <tr style=\"text-align: right;\">\n",
              "      <th></th>\n",
              "      <th>duration</th>\n",
              "      <th>src_bytes</th>\n",
              "      <th>dst_bytes</th>\n",
              "      <th>land</th>\n",
              "      <th>wrong_fragment</th>\n",
              "      <th>urgent</th>\n",
              "      <th>hot</th>\n",
              "      <th>num_failed_logins</th>\n",
              "      <th>logged_in</th>\n",
              "      <th>num_compromised</th>\n",
              "      <th>root_shell</th>\n",
              "      <th>su_attempted</th>\n",
              "      <th>num_root</th>\n",
              "      <th>num_file_creations</th>\n",
              "      <th>num_shells</th>\n",
              "      <th>num_access_files</th>\n",
              "      <th>num_outbound_cmds</th>\n",
              "      <th>is_host_login</th>\n",
              "      <th>is_guest_login</th>\n",
              "      <th>count</th>\n",
              "      <th>srv_count</th>\n",
              "      <th>serror_rate</th>\n",
              "      <th>srv_serror_rate</th>\n",
              "      <th>rerror_rate</th>\n",
              "      <th>srv_rerror_rate</th>\n",
              "      <th>same_srv_rate</th>\n",
              "      <th>diff_srv_rate</th>\n",
              "      <th>srv_diff_host_rate</th>\n",
              "      <th>dst_host_count</th>\n",
              "      <th>dst_host_srv_count</th>\n",
              "      <th>dst_host_same_srv_rate</th>\n",
              "      <th>dst_host_diff_srv_rate</th>\n",
              "      <th>dst_host_same_src_port_rate</th>\n",
              "      <th>dst_host_srv_diff_host_rate</th>\n",
              "      <th>dst_host_serror_rate</th>\n",
              "      <th>dst_host_srv_serror_rate</th>\n",
              "      <th>dst_host_rerror_rate</th>\n",
              "      <th>dst_host_srv_rerror_rate</th>\n",
              "    </tr>\n",
              "  </thead>\n",
              "  <tbody>\n",
              "    <tr>\n",
              "      <th>count</th>\n",
              "      <td>25192.000000</td>\n",
              "      <td>2.519200e+04</td>\n",
              "      <td>2.519200e+04</td>\n",
              "      <td>25192.000000</td>\n",
              "      <td>25192.000000</td>\n",
              "      <td>25192.00000</td>\n",
              "      <td>25192.000000</td>\n",
              "      <td>25192.000000</td>\n",
              "      <td>25192.000000</td>\n",
              "      <td>25192.000000</td>\n",
              "      <td>25192.000000</td>\n",
              "      <td>25192.000000</td>\n",
              "      <td>25192.000000</td>\n",
              "      <td>25192.000000</td>\n",
              "      <td>25192.000000</td>\n",
              "      <td>25192.000000</td>\n",
              "      <td>25192.0</td>\n",
              "      <td>25192.0</td>\n",
              "      <td>25192.000000</td>\n",
              "      <td>25192.000000</td>\n",
              "      <td>25192.000000</td>\n",
              "      <td>25192.000000</td>\n",
              "      <td>25192.000000</td>\n",
              "      <td>25192.000000</td>\n",
              "      <td>25192.000000</td>\n",
              "      <td>25192.000000</td>\n",
              "      <td>25192.000000</td>\n",
              "      <td>25192.000000</td>\n",
              "      <td>25192.000000</td>\n",
              "      <td>25192.000000</td>\n",
              "      <td>25192.000000</td>\n",
              "      <td>25192.000000</td>\n",
              "      <td>25192.000000</td>\n",
              "      <td>25192.000000</td>\n",
              "      <td>25192.000000</td>\n",
              "      <td>25192.000000</td>\n",
              "      <td>25192.000000</td>\n",
              "      <td>25192.000000</td>\n",
              "    </tr>\n",
              "    <tr>\n",
              "      <th>mean</th>\n",
              "      <td>305.054104</td>\n",
              "      <td>2.433063e+04</td>\n",
              "      <td>3.491847e+03</td>\n",
              "      <td>0.000079</td>\n",
              "      <td>0.023738</td>\n",
              "      <td>0.00004</td>\n",
              "      <td>0.198039</td>\n",
              "      <td>0.001191</td>\n",
              "      <td>0.394768</td>\n",
              "      <td>0.227850</td>\n",
              "      <td>0.001548</td>\n",
              "      <td>0.001350</td>\n",
              "      <td>0.249841</td>\n",
              "      <td>0.014727</td>\n",
              "      <td>0.000357</td>\n",
              "      <td>0.004327</td>\n",
              "      <td>0.0</td>\n",
              "      <td>0.0</td>\n",
              "      <td>0.009130</td>\n",
              "      <td>84.591180</td>\n",
              "      <td>27.698754</td>\n",
              "      <td>0.286338</td>\n",
              "      <td>0.283762</td>\n",
              "      <td>0.118630</td>\n",
              "      <td>0.120260</td>\n",
              "      <td>0.660559</td>\n",
              "      <td>0.062363</td>\n",
              "      <td>0.095931</td>\n",
              "      <td>182.532074</td>\n",
              "      <td>115.063036</td>\n",
              "      <td>0.519791</td>\n",
              "      <td>0.082539</td>\n",
              "      <td>0.147453</td>\n",
              "      <td>0.031844</td>\n",
              "      <td>0.285800</td>\n",
              "      <td>0.279846</td>\n",
              "      <td>0.117800</td>\n",
              "      <td>0.118769</td>\n",
              "    </tr>\n",
              "    <tr>\n",
              "      <th>std</th>\n",
              "      <td>2686.555640</td>\n",
              "      <td>2.410805e+06</td>\n",
              "      <td>8.883072e+04</td>\n",
              "      <td>0.008910</td>\n",
              "      <td>0.260221</td>\n",
              "      <td>0.00630</td>\n",
              "      <td>2.154202</td>\n",
              "      <td>0.045418</td>\n",
              "      <td>0.488811</td>\n",
              "      <td>10.417352</td>\n",
              "      <td>0.039316</td>\n",
              "      <td>0.048785</td>\n",
              "      <td>11.500842</td>\n",
              "      <td>0.529602</td>\n",
              "      <td>0.018898</td>\n",
              "      <td>0.098524</td>\n",
              "      <td>0.0</td>\n",
              "      <td>0.0</td>\n",
              "      <td>0.095115</td>\n",
              "      <td>114.673451</td>\n",
              "      <td>72.468242</td>\n",
              "      <td>0.447312</td>\n",
              "      <td>0.447599</td>\n",
              "      <td>0.318745</td>\n",
              "      <td>0.322335</td>\n",
              "      <td>0.439637</td>\n",
              "      <td>0.178550</td>\n",
              "      <td>0.256583</td>\n",
              "      <td>98.993895</td>\n",
              "      <td>110.646850</td>\n",
              "      <td>0.448944</td>\n",
              "      <td>0.187191</td>\n",
              "      <td>0.308367</td>\n",
              "      <td>0.110575</td>\n",
              "      <td>0.445316</td>\n",
              "      <td>0.446075</td>\n",
              "      <td>0.305869</td>\n",
              "      <td>0.317333</td>\n",
              "    </tr>\n",
              "    <tr>\n",
              "      <th>min</th>\n",
              "      <td>0.000000</td>\n",
              "      <td>0.000000e+00</td>\n",
              "      <td>0.000000e+00</td>\n",
              "      <td>0.000000</td>\n",
              "      <td>0.000000</td>\n",
              "      <td>0.00000</td>\n",
              "      <td>0.000000</td>\n",
              "      <td>0.000000</td>\n",
              "      <td>0.000000</td>\n",
              "      <td>0.000000</td>\n",
              "      <td>0.000000</td>\n",
              "      <td>0.000000</td>\n",
              "      <td>0.000000</td>\n",
              "      <td>0.000000</td>\n",
              "      <td>0.000000</td>\n",
              "      <td>0.000000</td>\n",
              "      <td>0.0</td>\n",
              "      <td>0.0</td>\n",
              "      <td>0.000000</td>\n",
              "      <td>1.000000</td>\n",
              "      <td>1.000000</td>\n",
              "      <td>0.000000</td>\n",
              "      <td>0.000000</td>\n",
              "      <td>0.000000</td>\n",
              "      <td>0.000000</td>\n",
              "      <td>0.000000</td>\n",
              "      <td>0.000000</td>\n",
              "      <td>0.000000</td>\n",
              "      <td>0.000000</td>\n",
              "      <td>0.000000</td>\n",
              "      <td>0.000000</td>\n",
              "      <td>0.000000</td>\n",
              "      <td>0.000000</td>\n",
              "      <td>0.000000</td>\n",
              "      <td>0.000000</td>\n",
              "      <td>0.000000</td>\n",
              "      <td>0.000000</td>\n",
              "      <td>0.000000</td>\n",
              "    </tr>\n",
              "    <tr>\n",
              "      <th>25%</th>\n",
              "      <td>0.000000</td>\n",
              "      <td>0.000000e+00</td>\n",
              "      <td>0.000000e+00</td>\n",
              "      <td>0.000000</td>\n",
              "      <td>0.000000</td>\n",
              "      <td>0.00000</td>\n",
              "      <td>0.000000</td>\n",
              "      <td>0.000000</td>\n",
              "      <td>0.000000</td>\n",
              "      <td>0.000000</td>\n",
              "      <td>0.000000</td>\n",
              "      <td>0.000000</td>\n",
              "      <td>0.000000</td>\n",
              "      <td>0.000000</td>\n",
              "      <td>0.000000</td>\n",
              "      <td>0.000000</td>\n",
              "      <td>0.0</td>\n",
              "      <td>0.0</td>\n",
              "      <td>0.000000</td>\n",
              "      <td>2.000000</td>\n",
              "      <td>2.000000</td>\n",
              "      <td>0.000000</td>\n",
              "      <td>0.000000</td>\n",
              "      <td>0.000000</td>\n",
              "      <td>0.000000</td>\n",
              "      <td>0.090000</td>\n",
              "      <td>0.000000</td>\n",
              "      <td>0.000000</td>\n",
              "      <td>84.000000</td>\n",
              "      <td>10.000000</td>\n",
              "      <td>0.050000</td>\n",
              "      <td>0.000000</td>\n",
              "      <td>0.000000</td>\n",
              "      <td>0.000000</td>\n",
              "      <td>0.000000</td>\n",
              "      <td>0.000000</td>\n",
              "      <td>0.000000</td>\n",
              "      <td>0.000000</td>\n",
              "    </tr>\n",
              "    <tr>\n",
              "      <th>50%</th>\n",
              "      <td>0.000000</td>\n",
              "      <td>4.400000e+01</td>\n",
              "      <td>0.000000e+00</td>\n",
              "      <td>0.000000</td>\n",
              "      <td>0.000000</td>\n",
              "      <td>0.00000</td>\n",
              "      <td>0.000000</td>\n",
              "      <td>0.000000</td>\n",
              "      <td>0.000000</td>\n",
              "      <td>0.000000</td>\n",
              "      <td>0.000000</td>\n",
              "      <td>0.000000</td>\n",
              "      <td>0.000000</td>\n",
              "      <td>0.000000</td>\n",
              "      <td>0.000000</td>\n",
              "      <td>0.000000</td>\n",
              "      <td>0.0</td>\n",
              "      <td>0.0</td>\n",
              "      <td>0.000000</td>\n",
              "      <td>14.000000</td>\n",
              "      <td>8.000000</td>\n",
              "      <td>0.000000</td>\n",
              "      <td>0.000000</td>\n",
              "      <td>0.000000</td>\n",
              "      <td>0.000000</td>\n",
              "      <td>1.000000</td>\n",
              "      <td>0.000000</td>\n",
              "      <td>0.000000</td>\n",
              "      <td>255.000000</td>\n",
              "      <td>61.000000</td>\n",
              "      <td>0.510000</td>\n",
              "      <td>0.030000</td>\n",
              "      <td>0.000000</td>\n",
              "      <td>0.000000</td>\n",
              "      <td>0.000000</td>\n",
              "      <td>0.000000</td>\n",
              "      <td>0.000000</td>\n",
              "      <td>0.000000</td>\n",
              "    </tr>\n",
              "    <tr>\n",
              "      <th>75%</th>\n",
              "      <td>0.000000</td>\n",
              "      <td>2.790000e+02</td>\n",
              "      <td>5.302500e+02</td>\n",
              "      <td>0.000000</td>\n",
              "      <td>0.000000</td>\n",
              "      <td>0.00000</td>\n",
              "      <td>0.000000</td>\n",
              "      <td>0.000000</td>\n",
              "      <td>1.000000</td>\n",
              "      <td>0.000000</td>\n",
              "      <td>0.000000</td>\n",
              "      <td>0.000000</td>\n",
              "      <td>0.000000</td>\n",
              "      <td>0.000000</td>\n",
              "      <td>0.000000</td>\n",
              "      <td>0.000000</td>\n",
              "      <td>0.0</td>\n",
              "      <td>0.0</td>\n",
              "      <td>0.000000</td>\n",
              "      <td>144.000000</td>\n",
              "      <td>18.000000</td>\n",
              "      <td>1.000000</td>\n",
              "      <td>1.000000</td>\n",
              "      <td>0.000000</td>\n",
              "      <td>0.000000</td>\n",
              "      <td>1.000000</td>\n",
              "      <td>0.060000</td>\n",
              "      <td>0.000000</td>\n",
              "      <td>255.000000</td>\n",
              "      <td>255.000000</td>\n",
              "      <td>1.000000</td>\n",
              "      <td>0.070000</td>\n",
              "      <td>0.060000</td>\n",
              "      <td>0.020000</td>\n",
              "      <td>1.000000</td>\n",
              "      <td>1.000000</td>\n",
              "      <td>0.000000</td>\n",
              "      <td>0.000000</td>\n",
              "    </tr>\n",
              "    <tr>\n",
              "      <th>max</th>\n",
              "      <td>42862.000000</td>\n",
              "      <td>3.817091e+08</td>\n",
              "      <td>5.151385e+06</td>\n",
              "      <td>1.000000</td>\n",
              "      <td>3.000000</td>\n",
              "      <td>1.00000</td>\n",
              "      <td>77.000000</td>\n",
              "      <td>4.000000</td>\n",
              "      <td>1.000000</td>\n",
              "      <td>884.000000</td>\n",
              "      <td>1.000000</td>\n",
              "      <td>2.000000</td>\n",
              "      <td>975.000000</td>\n",
              "      <td>40.000000</td>\n",
              "      <td>1.000000</td>\n",
              "      <td>8.000000</td>\n",
              "      <td>0.0</td>\n",
              "      <td>0.0</td>\n",
              "      <td>1.000000</td>\n",
              "      <td>511.000000</td>\n",
              "      <td>511.000000</td>\n",
              "      <td>1.000000</td>\n",
              "      <td>1.000000</td>\n",
              "      <td>1.000000</td>\n",
              "      <td>1.000000</td>\n",
              "      <td>1.000000</td>\n",
              "      <td>1.000000</td>\n",
              "      <td>1.000000</td>\n",
              "      <td>255.000000</td>\n",
              "      <td>255.000000</td>\n",
              "      <td>1.000000</td>\n",
              "      <td>1.000000</td>\n",
              "      <td>1.000000</td>\n",
              "      <td>1.000000</td>\n",
              "      <td>1.000000</td>\n",
              "      <td>1.000000</td>\n",
              "      <td>1.000000</td>\n",
              "      <td>1.000000</td>\n",
              "    </tr>\n",
              "  </tbody>\n",
              "</table>\n",
              "</div>"
            ],
            "text/plain": [
              "           duration     src_bytes     dst_bytes          land  wrong_fragment  \\\n",
              "count  25192.000000  2.519200e+04  2.519200e+04  25192.000000    25192.000000   \n",
              "mean     305.054104  2.433063e+04  3.491847e+03      0.000079        0.023738   \n",
              "std     2686.555640  2.410805e+06  8.883072e+04      0.008910        0.260221   \n",
              "min        0.000000  0.000000e+00  0.000000e+00      0.000000        0.000000   \n",
              "25%        0.000000  0.000000e+00  0.000000e+00      0.000000        0.000000   \n",
              "50%        0.000000  4.400000e+01  0.000000e+00      0.000000        0.000000   \n",
              "75%        0.000000  2.790000e+02  5.302500e+02      0.000000        0.000000   \n",
              "max    42862.000000  3.817091e+08  5.151385e+06      1.000000        3.000000   \n",
              "\n",
              "            urgent           hot  num_failed_logins     logged_in  \\\n",
              "count  25192.00000  25192.000000       25192.000000  25192.000000   \n",
              "mean       0.00004      0.198039           0.001191      0.394768   \n",
              "std        0.00630      2.154202           0.045418      0.488811   \n",
              "min        0.00000      0.000000           0.000000      0.000000   \n",
              "25%        0.00000      0.000000           0.000000      0.000000   \n",
              "50%        0.00000      0.000000           0.000000      0.000000   \n",
              "75%        0.00000      0.000000           0.000000      1.000000   \n",
              "max        1.00000     77.000000           4.000000      1.000000   \n",
              "\n",
              "       num_compromised    root_shell  su_attempted      num_root  \\\n",
              "count     25192.000000  25192.000000  25192.000000  25192.000000   \n",
              "mean          0.227850      0.001548      0.001350      0.249841   \n",
              "std          10.417352      0.039316      0.048785     11.500842   \n",
              "min           0.000000      0.000000      0.000000      0.000000   \n",
              "25%           0.000000      0.000000      0.000000      0.000000   \n",
              "50%           0.000000      0.000000      0.000000      0.000000   \n",
              "75%           0.000000      0.000000      0.000000      0.000000   \n",
              "max         884.000000      1.000000      2.000000    975.000000   \n",
              "\n",
              "       num_file_creations    num_shells  num_access_files  num_outbound_cmds  \\\n",
              "count        25192.000000  25192.000000      25192.000000            25192.0   \n",
              "mean             0.014727      0.000357          0.004327                0.0   \n",
              "std              0.529602      0.018898          0.098524                0.0   \n",
              "min              0.000000      0.000000          0.000000                0.0   \n",
              "25%              0.000000      0.000000          0.000000                0.0   \n",
              "50%              0.000000      0.000000          0.000000                0.0   \n",
              "75%              0.000000      0.000000          0.000000                0.0   \n",
              "max             40.000000      1.000000          8.000000                0.0   \n",
              "\n",
              "       is_host_login  is_guest_login         count     srv_count  \\\n",
              "count        25192.0    25192.000000  25192.000000  25192.000000   \n",
              "mean             0.0        0.009130     84.591180     27.698754   \n",
              "std              0.0        0.095115    114.673451     72.468242   \n",
              "min              0.0        0.000000      1.000000      1.000000   \n",
              "25%              0.0        0.000000      2.000000      2.000000   \n",
              "50%              0.0        0.000000     14.000000      8.000000   \n",
              "75%              0.0        0.000000    144.000000     18.000000   \n",
              "max              0.0        1.000000    511.000000    511.000000   \n",
              "\n",
              "        serror_rate  srv_serror_rate   rerror_rate  srv_rerror_rate  \\\n",
              "count  25192.000000     25192.000000  25192.000000     25192.000000   \n",
              "mean       0.286338         0.283762      0.118630         0.120260   \n",
              "std        0.447312         0.447599      0.318745         0.322335   \n",
              "min        0.000000         0.000000      0.000000         0.000000   \n",
              "25%        0.000000         0.000000      0.000000         0.000000   \n",
              "50%        0.000000         0.000000      0.000000         0.000000   \n",
              "75%        1.000000         1.000000      0.000000         0.000000   \n",
              "max        1.000000         1.000000      1.000000         1.000000   \n",
              "\n",
              "       same_srv_rate  diff_srv_rate  srv_diff_host_rate  dst_host_count  \\\n",
              "count   25192.000000   25192.000000        25192.000000    25192.000000   \n",
              "mean        0.660559       0.062363            0.095931      182.532074   \n",
              "std         0.439637       0.178550            0.256583       98.993895   \n",
              "min         0.000000       0.000000            0.000000        0.000000   \n",
              "25%         0.090000       0.000000            0.000000       84.000000   \n",
              "50%         1.000000       0.000000            0.000000      255.000000   \n",
              "75%         1.000000       0.060000            0.000000      255.000000   \n",
              "max         1.000000       1.000000            1.000000      255.000000   \n",
              "\n",
              "       dst_host_srv_count  dst_host_same_srv_rate  dst_host_diff_srv_rate  \\\n",
              "count        25192.000000            25192.000000            25192.000000   \n",
              "mean           115.063036                0.519791                0.082539   \n",
              "std            110.646850                0.448944                0.187191   \n",
              "min              0.000000                0.000000                0.000000   \n",
              "25%             10.000000                0.050000                0.000000   \n",
              "50%             61.000000                0.510000                0.030000   \n",
              "75%            255.000000                1.000000                0.070000   \n",
              "max            255.000000                1.000000                1.000000   \n",
              "\n",
              "       dst_host_same_src_port_rate  dst_host_srv_diff_host_rate  \\\n",
              "count                 25192.000000                 25192.000000   \n",
              "mean                      0.147453                     0.031844   \n",
              "std                       0.308367                     0.110575   \n",
              "min                       0.000000                     0.000000   \n",
              "25%                       0.000000                     0.000000   \n",
              "50%                       0.000000                     0.000000   \n",
              "75%                       0.060000                     0.020000   \n",
              "max                       1.000000                     1.000000   \n",
              "\n",
              "       dst_host_serror_rate  dst_host_srv_serror_rate  dst_host_rerror_rate  \\\n",
              "count          25192.000000              25192.000000          25192.000000   \n",
              "mean               0.285800                  0.279846              0.117800   \n",
              "std                0.445316                  0.446075              0.305869   \n",
              "min                0.000000                  0.000000              0.000000   \n",
              "25%                0.000000                  0.000000              0.000000   \n",
              "50%                0.000000                  0.000000              0.000000   \n",
              "75%                1.000000                  1.000000              0.000000   \n",
              "max                1.000000                  1.000000              1.000000   \n",
              "\n",
              "       dst_host_srv_rerror_rate  \n",
              "count              25192.000000  \n",
              "mean                   0.118769  \n",
              "std                    0.317333  \n",
              "min                    0.000000  \n",
              "25%                    0.000000  \n",
              "50%                    0.000000  \n",
              "75%                    0.000000  \n",
              "max                    1.000000  "
            ]
          },
          "metadata": {
            "tags": []
          },
          "execution_count": 32
        }
      ]
    },
    {
      "cell_type": "code",
      "metadata": {
        "trusted": true,
        "_uuid": "06b94b1d1a0c6ba604a7d69c1495132c3f38710c",
        "id": "MplMsaULycCj",
        "colab_type": "code",
        "outputId": "84ff8d98-26c1-48ba-ecf2-d9b2986eb41b",
        "colab": {
          "base_uri": "https://localhost:8080/",
          "height": 85
        }
      },
      "source": [
        "print(train['num_outbound_cmds'].value_counts())\n",
        "print(test['num_outbound_cmds'].value_counts())"
      ],
      "execution_count": 33,
      "outputs": [
        {
          "output_type": "stream",
          "text": [
            "0    25192\n",
            "Name: num_outbound_cmds, dtype: int64\n",
            "0    22544\n",
            "Name: num_outbound_cmds, dtype: int64\n"
          ],
          "name": "stdout"
        }
      ]
    },
    {
      "cell_type": "code",
      "metadata": {
        "trusted": true,
        "_uuid": "4e0f8a1adcd11b17c9bda454c8c29e486ac10f64",
        "id": "avIpxxOSycCs",
        "colab_type": "code",
        "colab": {}
      },
      "source": [
        "#'num_outbound_cmds' is a redundant column so remove it from both train & test datasets\n",
        "train.drop(['num_outbound_cmds'], axis=1, inplace=True)\n",
        "test.drop(['num_outbound_cmds'], axis=1, inplace=True)"
      ],
      "execution_count": 0,
      "outputs": []
    },
    {
      "cell_type": "code",
      "metadata": {
        "trusted": true,
        "_uuid": "df0fc1cc89e3a82a7b07e1662c99abf42deddbc9",
        "id": "vBfttan8ycCy",
        "colab_type": "code",
        "colab": {
          "base_uri": "https://localhost:8080/",
          "height": 68
        },
        "outputId": "dc1588af-d8f7-4e9b-f278-3e8fc63d8551"
      },
      "source": [
        "# Attack Class Distribution\n",
        "train['class'].value_counts()"
      ],
      "execution_count": 35,
      "outputs": [
        {
          "output_type": "execute_result",
          "data": {
            "text/plain": [
              "normal     13449\n",
              "anomaly    11743\n",
              "Name: class, dtype: int64"
            ]
          },
          "metadata": {
            "tags": []
          },
          "execution_count": 35
        }
      ]
    },
    {
      "cell_type": "markdown",
      "metadata": {
        "_uuid": "d472d5c2705a8d322b20fa1994139a4c9cdaebce",
        "id": "rGT-Dw8KycC3",
        "colab_type": "text"
      },
      "source": [
        "# SCALING NUMERICAL ATTRIBUTES"
      ]
    },
    {
      "cell_type": "code",
      "metadata": {
        "trusted": true,
        "_uuid": "654b1e6dfb83362b836ed892df4deae0d48ce4b0",
        "id": "Peonk4SMycC6",
        "colab_type": "code",
        "colab": {}
      },
      "source": [
        "from sklearn.preprocessing import StandardScaler\n",
        "scaler = StandardScaler()\n",
        "\n",
        "# extract numerical attributes and scale it to have zero mean and unit variance  \n",
        "cols = train.select_dtypes(include=['float64','int64']).columns\n",
        "sc_train = scaler.fit_transform(train.select_dtypes(include=['float64','int64']))\n",
        "sc_test = scaler.fit_transform(test.select_dtypes(include=['float64','int64']))\n",
        "\n",
        "# turn the result back to a dataframe\n",
        "sc_traindf = pd.DataFrame(sc_train, columns = cols)\n",
        "sc_testdf = pd.DataFrame(sc_test, columns = cols)"
      ],
      "execution_count": 0,
      "outputs": []
    },
    {
      "cell_type": "markdown",
      "metadata": {
        "_uuid": "bd7451b8802bfb2201a978469b0636d082aa3a0a",
        "id": "QcdvR6dwycC_",
        "colab_type": "text"
      },
      "source": [
        "# ENCODING CATEGORICAL ATTRIBUTES"
      ]
    },
    {
      "cell_type": "code",
      "metadata": {
        "trusted": true,
        "_uuid": "e3d637225809dfcc6aa3ea7ef4a9b1d55d2b436c",
        "id": "DazSj9G7ycDA",
        "colab_type": "code",
        "colab": {}
      },
      "source": [
        "from sklearn.preprocessing import LabelEncoder\n",
        "encoder = LabelEncoder()\n",
        "\n",
        "# extract categorical attributes from both training and test sets \n",
        "cattrain = train.select_dtypes(include=['object']).copy()\n",
        "cattest = test.select_dtypes(include=['object']).copy()\n",
        "\n",
        "# encode the categorical attributes\n",
        "traincat = cattrain.apply(encoder.fit_transform)\n",
        "testcat = cattest.apply(encoder.fit_transform)\n",
        "\n",
        "# separate target column from encoded data \n",
        "enctrain = traincat.drop(['class'], axis=1)\n",
        "cat_Ytrain = traincat[['class']].copy()\n"
      ],
      "execution_count": 0,
      "outputs": []
    },
    {
      "cell_type": "code",
      "metadata": {
        "trusted": true,
        "_uuid": "227915d0f6d7a22ec344d4a016049acecb0323f6",
        "id": "4yGdGK4tycDF",
        "colab_type": "code",
        "colab": {
          "base_uri": "https://localhost:8080/",
          "height": 34
        },
        "outputId": "7ada0747-55a8-4ef5-c695-2fc88bc72f37"
      },
      "source": [
        "train_x = pd.concat([sc_traindf,enctrain],axis=1)\n",
        "train_y = train['class']\n",
        "train_x.shape"
      ],
      "execution_count": 38,
      "outputs": [
        {
          "output_type": "execute_result",
          "data": {
            "text/plain": [
              "(25192, 40)"
            ]
          },
          "metadata": {
            "tags": []
          },
          "execution_count": 38
        }
      ]
    },
    {
      "cell_type": "code",
      "metadata": {
        "trusted": true,
        "_uuid": "ca90e6da174743f665a1fc640ff3070e502a3535",
        "id": "bIj9SF6EycDN",
        "colab_type": "code",
        "colab": {
          "base_uri": "https://localhost:8080/",
          "height": 34
        },
        "outputId": "1612a8a9-7e8c-46a1-8d02-018a45bb38bd"
      },
      "source": [
        "test_df = pd.concat([sc_testdf,testcat],axis=1)\n",
        "test_df.shape"
      ],
      "execution_count": 39,
      "outputs": [
        {
          "output_type": "execute_result",
          "data": {
            "text/plain": [
              "(22544, 40)"
            ]
          },
          "metadata": {
            "tags": []
          },
          "execution_count": 39
        }
      ]
    },
    {
      "cell_type": "markdown",
      "metadata": {
        "_uuid": "58212e80c11969c02f35adbf42d2bba7881dfde0",
        "id": "S1JemB5eycDS",
        "colab_type": "text"
      },
      "source": [
        "# FEATURE SELECTION"
      ]
    },
    {
      "cell_type": "code",
      "metadata": {
        "trusted": true,
        "_uuid": "6608ad7beebd4cd2ca3cbc0999da5def00d0c4e5",
        "id": "pCQhmUQ2ycDT",
        "colab_type": "code",
        "colab": {
          "base_uri": "https://localhost:8080/",
          "height": 450
        },
        "outputId": "1fda5cc7-4027-4602-a0fa-84d60496cc3f"
      },
      "source": [
        "from sklearn.ensemble import RandomForestClassifier\n",
        "rfc = RandomForestClassifier();\n",
        "\n",
        "# fit random forest classifier on the training set\n",
        "rfc.fit(train_x, train_y);\n",
        "# extract important features\n",
        "score = np.round(rfc.feature_importances_,3)\n",
        "importances = pd.DataFrame({'feature':train_x.columns,'importance':score})\n",
        "importances = importances.sort_values('importance',ascending=False).set_index('feature')\n",
        "# plot importances\n",
        "plt.rcParams['figure.figsize'] = (11, 4)\n",
        "importances.plot.bar();"
      ],
      "execution_count": 40,
      "outputs": [
        {
          "output_type": "display_data",
          "data": {
            "image/png": "[encoded data removed]",
            "text/plain": [
              "<Figure size 792x288 with 1 Axes>"
            ]
          },
          "metadata": {
            "tags": []
          }
        }
      ]
    },
    {
      "cell_type": "code",
      "metadata": {
        "trusted": true,
        "_uuid": "4d9cffa96fadfddb552370e614d3e9ccc7a2c420",
        "id": "mPXPFMhfycDX",
        "colab_type": "code",
        "colab": {
          "base_uri": "https://localhost:8080/",
          "height": 272
        },
        "outputId": "f34bbe94-71c7-4bcb-c4f4-b319270f9eba"
      },
      "source": [
        "from sklearn.feature_selection import RFE\n",
        "import itertools\n",
        "rfc = RandomForestClassifier()\n",
        "\n",
        "# create the RFE model and select 10 attributes\n",
        "rfe = RFE(rfc, n_features_to_select=15)\n",
        "rfe = rfe.fit(train_x, train_y)\n",
        "\n",
        "# summarize the selection of the attributes\n",
        "feature_map = [(i, v) for i, v in itertools.zip_longest(rfe.get_support(), train_x.columns)]\n",
        "selected_features = [v for i, v in feature_map if i==True]\n",
        "\n",
        "selected_features"
      ],
      "execution_count": 41,
      "outputs": [
        {
          "output_type": "execute_result",
          "data": {
            "text/plain": [
              "['src_bytes',\n",
              " 'dst_bytes',\n",
              " 'logged_in',\n",
              " 'count',\n",
              " 'srv_count',\n",
              " 'same_srv_rate',\n",
              " 'diff_srv_rate',\n",
              " 'dst_host_srv_count',\n",
              " 'dst_host_same_srv_rate',\n",
              " 'dst_host_diff_srv_rate',\n",
              " 'dst_host_same_src_port_rate',\n",
              " 'dst_host_srv_diff_host_rate',\n",
              " 'protocol_type',\n",
              " 'service',\n",
              " 'flag']"
            ]
          },
          "metadata": {
            "tags": []
          },
          "execution_count": 41
        }
      ]
    },
    {
      "cell_type": "markdown",
      "metadata": {
        "_uuid": "c20a81752c216722f4fdfb8ce2837956823c1b6d",
        "id": "m2cGMyotycDe",
        "colab_type": "text"
      },
      "source": [
        "# DATASET PARTITION"
      ]
    },
    {
      "cell_type": "code",
      "metadata": {
        "trusted": true,
        "_uuid": "6a5e5c54d8c5d760085d104bdc8c5eb44b6372b4",
        "id": "yzakjzHtycDf",
        "colab_type": "code",
        "colab": {}
      },
      "source": [
        "from sklearn.model_selection import train_test_split\n",
        "\n",
        "X_train,X_test,Y_train,Y_test = train_test_split(train_x,train_y,train_size=0.70, random_state=2)"
      ],
      "execution_count": 0,
      "outputs": []
    },
    {
      "cell_type": "markdown",
      "metadata": {
        "_uuid": "bb80c25403d2e9030d20e37eefa4d54c83dfb056",
        "id": "_UCbyTYGycDk",
        "colab_type": "text"
      },
      "source": [
        "# FITTING MODELS"
      ]
    },
    {
      "cell_type": "code",
      "metadata": {
        "trusted": true,
        "_uuid": "9ab0f6c11f8772d9f1c008ee2b4d1f181af3effb",
        "id": "nrsyP6yrycDl",
        "colab_type": "code",
        "colab": {
          "base_uri": "https://localhost:8080/",
          "height": 119
        },
        "outputId": "3e214db2-f719-4869-ffd2-694abed83eb5"
      },
      "source": [
        "from sklearn.svm import SVC \n",
        "from sklearn.naive_bayes import BernoulliNB \n",
        "from sklearn import tree\n",
        "from sklearn.model_selection import cross_val_score\n",
        "from sklearn.neighbors import KNeighborsClassifier\n",
        "from sklearn.linear_model import LogisticRegression\n",
        "\n",
        "# Train KNeighborsClassifier Model\n",
        "KNN_Classifier = KNeighborsClassifier(n_jobs=-1)\n",
        "KNN_Classifier.fit(X_train, Y_train); \n",
        "\n",
        "# Train LogisticRegression Model\n",
        "LGR_Classifier = LogisticRegression(n_jobs=-1, random_state=0)\n",
        "LGR_Classifier.fit(X_train, Y_train);\n",
        "\n",
        "# Train Gaussian Naive Baye Model\n",
        "BNB_Classifier = BernoulliNB()\n",
        "BNB_Classifier.fit(X_train, Y_train)\n",
        "            \n",
        "# Train Decision Tree Model\n",
        "DTC_Classifier = tree.DecisionTreeClassifier(criterion='entropy', random_state=0)\n",
        "DTC_Classifier.fit(X_train, Y_train)"
      ],
      "execution_count": 43,
      "outputs": [
        {
          "output_type": "execute_result",
          "data": {
            "text/plain": [
              "DecisionTreeClassifier(ccp_alpha=0.0, class_weight=None, criterion='entropy',\n",
              "                       max_depth=None, max_features=None, max_leaf_nodes=None,\n",
              "                       min_impurity_decrease=0.0, min_impurity_split=None,\n",
              "                       min_samples_leaf=1, min_samples_split=2,\n",
              "                       min_weight_fraction_leaf=0.0, presort='deprecated',\n",
              "                       random_state=0, splitter='best')"
            ]
          },
          "metadata": {
            "tags": []
          },
          "execution_count": 43
        }
      ]
    },
    {
      "cell_type": "markdown",
      "metadata": {
        "_uuid": "9753eed4eab0e0587d016b78efce930aa782f29f",
        "id": "gzF-i2LAycDq",
        "colab_type": "text"
      },
      "source": [
        "# EVALUATE MODELS"
      ]
    },
    {
      "cell_type": "code",
      "metadata": {
        "trusted": true,
        "_uuid": "56a6d972dfc7236bddc02b254416331a45e1b57a",
        "id": "6nD5N10LycDr",
        "colab_type": "code",
        "colab": {
          "base_uri": "https://localhost:8080/",
          "height": 1000
        },
        "outputId": "aa270a81-1d92-4ef5-b771-efd9908962a0"
      },
      "source": [
        "from sklearn import metrics\n",
        "\n",
        "models = []\n",
        "models.append(('Naive Baye Classifier', BNB_Classifier))\n",
        "models.append(('Decision Tree Classifier', DTC_Classifier))\n",
        "models.append(('KNeighborsClassifier', KNN_Classifier))\n",
        "models.append(('LogisticRegression', LGR_Classifier))\n",
        "\n",
        "for i, v in models:\n",
        "    scores = cross_val_score(v, X_train, Y_train, cv=10)\n",
        "    accuracy = metrics.accuracy_score(Y_train, v.predict(X_train))\n",
        "    confusion_matrix = metrics.confusion_matrix(Y_train, v.predict(X_train))\n",
        "    classification = metrics.classification_report(Y_train, v.predict(X_train))\n",
        "    print()\n",
        "    print('============================== {} Model Evaluation =============================='.format(i))\n",
        "    print()\n",
        "    print (\"Cross Validation Mean Score:\" \"\\n\", scores.mean())\n",
        "    print()\n",
        "    print (\"Model Accuracy:\" \"\\n\", accuracy)\n",
        "    print()\n",
        "    print(\"Confusion matrix:\" \"\\n\", confusion_matrix)\n",
        "    print()\n",
        "    print(\"Classification report:\" \"\\n\", classification) \n",
        "    print()"
      ],
      "execution_count": 44,
      "outputs": [
        {
          "output_type": "stream",
          "text": [
            "\n",
            "============================== Naive Baye Classifier Model Evaluation ==============================\n",
            "\n",
            "Cross Validation Mean Score:\n",
            " 0.9071666840303904\n",
            "\n",
            "Model Accuracy:\n",
            " 0.9071679709651809\n",
            "\n",
            "Confusion matrix:\n",
            " [[7000 1245]\n",
            " [ 392 8997]]\n",
            "\n",
            "Classification report:\n",
            "               precision    recall  f1-score   support\n",
            "\n",
            "     anomaly       0.95      0.85      0.90      8245\n",
            "      normal       0.88      0.96      0.92      9389\n",
            "\n",
            "    accuracy                           0.91     17634\n",
            "   macro avg       0.91      0.90      0.91     17634\n",
            "weighted avg       0.91      0.91      0.91     17634\n",
            "\n",
            "\n",
            "\n",
            "============================== Decision Tree Classifier Model Evaluation ==============================\n",
            "\n",
            "Cross Validation Mean Score:\n",
            " 0.9960869883971739\n",
            "\n",
            "Model Accuracy:\n",
            " 1.0\n",
            "\n",
            "Confusion matrix:\n",
            " [[8245    0]\n",
            " [   0 9389]]\n",
            "\n",
            "Classification report:\n",
            "               precision    recall  f1-score   support\n",
            "\n",
            "     anomaly       1.00      1.00      1.00      8245\n",
            "      normal       1.00      1.00      1.00      9389\n",
            "\n",
            "    accuracy                           1.00     17634\n",
            "   macro avg       1.00      1.00      1.00     17634\n",
            "weighted avg       1.00      1.00      1.00     17634\n",
            "\n",
            "\n",
            "\n",
            "============================== KNeighborsClassifier Model Evaluation ==============================\n",
            "\n",
            "Cross Validation Mean Score:\n",
            " 0.9914370153431007\n",
            "\n",
            "Model Accuracy:\n",
            " 0.9937620505840989\n",
            "\n",
            "Confusion matrix:\n",
            " [[8168   77]\n",
            " [  33 9356]]\n",
            "\n",
            "Classification report:\n",
            "               precision    recall  f1-score   support\n",
            "\n",
            "     anomaly       1.00      0.99      0.99      8245\n",
            "      normal       0.99      1.00      0.99      9389\n",
            "\n",
            "    accuracy                           0.99     17634\n",
            "   macro avg       0.99      0.99      0.99     17634\n",
            "weighted avg       0.99      0.99      0.99     17634\n",
            "\n",
            "\n",
            "\n",
            "============================== LogisticRegression Model Evaluation ==============================\n",
            "\n",
            "Cross Validation Mean Score:\n",
            " 0.9537821727291786\n",
            "\n",
            "Model Accuracy:\n",
            " 0.9548599296812975\n",
            "\n",
            "Confusion matrix:\n",
            " [[7763  482]\n",
            " [ 314 9075]]\n",
            "\n",
            "Classification report:\n",
            "               precision    recall  f1-score   support\n",
            "\n",
            "     anomaly       0.96      0.94      0.95      8245\n",
            "      normal       0.95      0.97      0.96      9389\n",
            "\n",
            "    accuracy                           0.95     17634\n",
            "   macro avg       0.96      0.95      0.95     17634\n",
            "weighted avg       0.95      0.95      0.95     17634\n",
            "\n",
            "\n"
          ],
          "name": "stdout"
        }
      ]
    },
    {
      "cell_type": "markdown",
      "metadata": {
        "_uuid": "304fddb4f81dbe6893caf007ffdde527243fa119",
        "id": "gZJB9zMkycDx",
        "colab_type": "text"
      },
      "source": [
        "# VALIDATING MODELS"
      ]
    },
    {
      "cell_type": "code",
      "metadata": {
        "trusted": true,
        "_uuid": "5ab78f517053e419f6c6667e90a0b352ccb5f531",
        "id": "vprz3ETgycDy",
        "colab_type": "code",
        "colab": {
          "base_uri": "https://localhost:8080/",
          "height": 1000
        },
        "outputId": "e7f61eba-9762-40a5-81a5-cb6b1c8a1cd8"
      },
      "source": [
        "for i, v in models:\n",
        "    accuracy = metrics.accuracy_score(Y_test, v.predict(X_test))\n",
        "    confusion_matrix = metrics.confusion_matrix(Y_test, v.predict(X_test))\n",
        "    classification = metrics.classification_report(Y_test, v.predict(X_test))\n",
        "    print()\n",
        "    print('============================== {} Model Test Results =============================='.format(i))\n",
        "    print()\n",
        "    print (\"Model Accuracy:\" \"\\n\", accuracy)\n",
        "    print()\n",
        "    print(\"Confusion matrix:\" \"\\n\", confusion_matrix)\n",
        "    print()\n",
        "    print(\"Classification report:\" \"\\n\", classification) \n",
        "    print()        \n"
      ],
      "execution_count": 45,
      "outputs": [
        {
          "output_type": "stream",
          "text": [
            "\n",
            "============================== Naive Baye Classifier Model Test Results ==============================\n",
            "\n",
            "Model Accuracy:\n",
            " 0.906721354855782\n",
            "\n",
            "Confusion matrix:\n",
            " [[2981  517]\n",
            " [ 188 3872]]\n",
            "\n",
            "Classification report:\n",
            "               precision    recall  f1-score   support\n",
            "\n",
            "     anomaly       0.94      0.85      0.89      3498\n",
            "      normal       0.88      0.95      0.92      4060\n",
            "\n",
            "    accuracy                           0.91      7558\n",
            "   macro avg       0.91      0.90      0.91      7558\n",
            "weighted avg       0.91      0.91      0.91      7558\n",
            "\n",
            "\n",
            "\n",
            "============================== Decision Tree Classifier Model Test Results ==============================\n",
            "\n",
            "Model Accuracy:\n",
            " 0.9947075946017465\n",
            "\n",
            "Confusion matrix:\n",
            " [[3483   15]\n",
            " [  25 4035]]\n",
            "\n",
            "Classification report:\n",
            "               precision    recall  f1-score   support\n",
            "\n",
            "     anomaly       0.99      1.00      0.99      3498\n",
            "      normal       1.00      0.99      1.00      4060\n",
            "\n",
            "    accuracy                           0.99      7558\n",
            "   macro avg       0.99      0.99      0.99      7558\n",
            "weighted avg       0.99      0.99      0.99      7558\n",
            "\n",
            "\n",
            "\n",
            "============================== KNeighborsClassifier Model Test Results ==============================\n",
            "\n",
            "Model Accuracy:\n",
            " 0.9916644614977508\n",
            "\n",
            "Confusion matrix:\n",
            " [[3458   40]\n",
            " [  23 4037]]\n",
            "\n",
            "Classification report:\n",
            "               precision    recall  f1-score   support\n",
            "\n",
            "     anomaly       0.99      0.99      0.99      3498\n",
            "      normal       0.99      0.99      0.99      4060\n",
            "\n",
            "    accuracy                           0.99      7558\n",
            "   macro avg       0.99      0.99      0.99      7558\n",
            "weighted avg       0.99      0.99      0.99      7558\n",
            "\n",
            "\n",
            "\n",
            "============================== LogisticRegression Model Test Results ==============================\n",
            "\n",
            "Model Accuracy:\n",
            " 0.9551468642498016\n",
            "\n",
            "Confusion matrix:\n",
            " [[3297  201]\n",
            " [ 138 3922]]\n",
            "\n",
            "Classification report:\n",
            "               precision    recall  f1-score   support\n",
            "\n",
            "     anomaly       0.96      0.94      0.95      3498\n",
            "      normal       0.95      0.97      0.96      4060\n",
            "\n",
            "    accuracy                           0.96      7558\n",
            "   macro avg       0.96      0.95      0.95      7558\n",
            "weighted avg       0.96      0.96      0.96      7558\n",
            "\n",
            "\n"
          ],
          "name": "stdout"
        }
      ]
    },
    {
      "cell_type": "code",
      "metadata": {
        "trusted": true,
        "_uuid": "ecba1871b65bdfd796099ec707855a626d39446c",
        "id": "W3SC2X_8ycD2",
        "colab_type": "code",
        "colab": {}
      },
      "source": [
        "# PREDICTING FOR TEST DATA using KNN\n",
        "pred_knn = KNN_Classifier.predict(test_df)\n",
        "pred_NB = BNB_Classifier.predict(test_df)\n",
        "pred_log = LGR_Classifier.predict(test_df)\n",
        "pred_dt = DTC_Classifier.predict(test_df)"
      ],
      "execution_count": 0,
      "outputs": []
    },
    {
      "cell_type": "code",
      "metadata": {
        "trusted": false,
        "_uuid": "751ec1ef0463dbe068f52da09b971ecf022f28d7",
        "id": "ibfjIEGXycD7",
        "colab_type": "code",
        "colab": {}
      },
      "source": [
        ""
      ],
      "execution_count": 0,
      "outputs": []
    },
    {
      "cell_type": "code",
      "metadata": {
        "trusted": false,
        "_uuid": "872b0a081ec76d5b558d69bbe0693543555ad4a4",
        "id": "rC7b8pWwycEA",
        "colab_type": "code",
        "colab": {}
      },
      "source": [
        ""
      ],
      "execution_count": 0,
      "outputs": []
    }
  ]
}